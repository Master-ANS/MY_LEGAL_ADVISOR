{
 "cells": [
  {
   "cell_type": "code",
   "execution_count": 6,
   "metadata": {},
   "outputs": [],
   "source": [
    "from dotenv import load_dotenv\n",
    "import streamlit as st\n",
    "import os\n",
    "import google.generativeai as genai\n",
    "\n",
    "load_dotenv()\n",
    "os.getenv(\"GOOGLE_API_KEY\")\n",
    "genai.configure(api_key=os.getenv(\"GOOGLE_API_KEY\"))\n",
    "\n",
    "from PyPDF2 import PdfReader\n",
    "from langchain.embeddings import OpenAIEmbeddings\n",
    "from langchain.text_splitter import CharacterTextSplitter\n",
    "from langchain.vectorstores import FAISS\n",
    "from langchain_google_genai import GoogleGenerativeAIEmbeddings\n",
    "\n",
    "# Will house our FAISS vector store\n",
    "store = None\n",
    "\n",
    "# Will convert text into vector embeddings using OpenAI.\n",
    "embeddings = GoogleGenerativeAIEmbeddings(model = \"models/embedding-001\")\n",
    "\n",
    "def split_paragraphs(rawText):\n",
    "    text_splitter = CharacterTextSplitter(\n",
    "        separator=\"\\n\",\n",
    "        chunk_size=1000,\n",
    "        chunk_overlap=200,\n",
    "        length_function=len,\n",
    "        is_separator_regex=False,\n",
    "    )\n",
    "\n",
    "    return  text_splitter.split_text(rawText)\n",
    "\n",
    "def load_pdfs(pdfs):\n",
    "    text_chunks = []\n",
    "\n",
    "    for pdf in pdfs:\n",
    "        reader = PdfReader(pdf)\n",
    "        for page in reader.pages:\n",
    "            raw = page.extract_text()\n",
    "            chunks = split_paragraphs(raw)\n",
    "            text_chunks += chunks\n",
    "    return text_chunks\n"
   ]
  },
  {
   "cell_type": "code",
   "execution_count": 7,
   "metadata": {},
   "outputs": [],
   "source": [
    "def main():\n",
    "    list_of_pdfs = [\"rule11.pdf\", \"rule1.pdf\", \"rule2.pdf\", \"rule3.pdf\", \"rule4.pdf\", \"rule5.pdf\", \"rule6.pdf\", \"rule7.pdf\", \"megapdf.pdf\",\"rule13.pdf\"]\n",
    "    text_chunks = load_pdfs(list_of_pdfs)\n",
    "    # Index the text chunks in our FAISS store.\n",
    "    # OpenAIEmbeddings will be used automatically to convert\n",
    "    # Each chunk of text into vector embeddings using\n",
    "    # OpenAI APIs. \n",
    "    store = FAISS.from_texts(text_chunks, embeddings)\n",
    "\n",
    "    # Write our index to disk.\n",
    "    store.save_local(\"./vectorstore2\")\n",
    "\n",
    "if __name__ == \"__main__\":\n",
    "    main()\n",
    "# Tell me about the arrangement of clauses in the bharatiya nyaya sanhita"
   ]
  },
  {
   "cell_type": "code",
   "execution_count": null,
   "metadata": {},
   "outputs": [],
   "source": []
  }
 ],
 "metadata": {
  "kernelspec": {
   "display_name": "Python 3",
   "language": "python",
   "name": "python3"
  },
  "language_info": {
   "codemirror_mode": {
    "name": "ipython",
    "version": 3
   },
   "file_extension": ".py",
   "mimetype": "text/x-python",
   "name": "python",
   "nbconvert_exporter": "python",
   "pygments_lexer": "ipython3",
   "version": "3.12.5"
  }
 },
 "nbformat": 4,
 "nbformat_minor": 2
}
